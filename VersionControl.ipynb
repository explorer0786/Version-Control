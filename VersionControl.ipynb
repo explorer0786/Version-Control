{
  "nbformat": 4,
  "nbformat_minor": 0,
  "metadata": {
    "colab": {
      "provenance": [],
      "authorship_tag": "ABX9TyNuySQHMmyUwQF5rgtF40MA",
      "include_colab_link": true
    },
    "kernelspec": {
      "name": "python3",
      "display_name": "Python 3"
    },
    "language_info": {
      "name": "python"
    }
  },
  "cells": [
    {
      "cell_type": "markdown",
      "metadata": {
        "id": "view-in-github",
        "colab_type": "text"
      },
      "source": [
        "<a href=\"https://colab.research.google.com/github/explorer0786/Version-Control/blob/main/VersionControl.ipynb\" target=\"_parent\"><img src=\"https://colab.research.google.com/assets/colab-badge.svg\" alt=\"Open In Colab\"/></a>"
      ]
    },
    {
      "cell_type": "code",
      "source": [
        "# Save the notebook\n",
        "from google.colab import drive\n",
        "drive.mount('/content/drive')\n",
        "\n",
        "# Now save the notebook\n",
        "!cp /content/VersionControl.ipynb /content/drive/My\\ Drive/\n"
      ],
      "metadata": {
        "colab": {
          "base_uri": "https://localhost:8080/"
        },
        "id": "tvs9KEnoru6r",
        "outputId": "31a83bcc-f009-4ebc-e23f-2d40e531cdd6"
      },
      "execution_count": 8,
      "outputs": [
        {
          "output_type": "stream",
          "name": "stdout",
          "text": [
            "Mounted at /content/drive\n",
            "cp: cannot stat '/content/VersionControl.ipynb': No such file or directory\n"
          ]
        }
      ]
    },
    {
      "cell_type": "code",
      "source": [
        "# Step 1: Hard-coded variables\n",
        "name = \"John Doe\"\n",
        "age = 30\n",
        "city = \"New York\"\n",
        "print(\"Name:\", name)\n",
        "print(\"Age:\", age)\n",
        "print(\"City:\", city)\n",
        "\n",
        "# Step 2: Taking keyboard input\n",
        "\n",
        "name = input(\"Enter your name: \")\n",
        "age = input(\"Enter your age: \")\n",
        "city = input(\"Enter your city: \")\n",
        "print(\"Name:\", name)\n",
        "print(\"Age:\", age)\n",
        "print(\"City:\", city)\n",
        "\n",
        "# Step 3: Read single input from a file\n",
        "\n",
        "with open('/Input file.txt', 'r') as file:\n",
        "    input_data = file.readline().strip()\n",
        "print(\"Input from file:\", input_data)\n",
        "\n",
        "# Step 4: Read multiple inputs from a file\n",
        "\n",
        "with open('/input_multiple.txt', 'r') as file:\n",
        "    lines = file.readlines()\n",
        "\n",
        "for i in range(0, len(lines), 3):\n",
        "    name = lines[i].strip()\n",
        "    age = lines[i+1].strip()\n",
        "    city = lines[i+2].strip()\n",
        "    print(f\"Name: {name}, Age: {age}, City: {city}\")\n",
        "\n"
      ],
      "metadata": {
        "colab": {
          "base_uri": "https://localhost:8080/"
        },
        "id": "I7sq92tax4lj",
        "outputId": "8afa4fb0-cda8-43dc-f881-23f152d1e1e3"
      },
      "execution_count": 13,
      "outputs": [
        {
          "output_type": "stream",
          "name": "stdout",
          "text": [
            "Name: John Doe\n",
            "Age: 30\n",
            "City: New York\n",
            "Enter your name: Hardik\n",
            "Enter your age: 20\n",
            "Enter your city: Hyderabad\n",
            "Name: Hardik\n",
            "Age: 20\n",
            "City: Hyderabad\n",
            "Input from file: Hello, this is a sample input.\n",
            "Name: Alice, Age: 25, City: San Francisco\n",
            "Name: Bob, Age: 40, City: Los Angeles\n",
            "Name: Charlie, Age: 30, City: Chicago\n"
          ]
        }
      ]
    }
  ]
}